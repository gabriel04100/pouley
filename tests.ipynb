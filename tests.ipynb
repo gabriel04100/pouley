{
 "cells": [
  {
   "cell_type": "code",
   "execution_count": 7,
   "metadata": {},
   "outputs": [],
   "source": [
    "!python.exe -m pip install --upgrade pip\n",
    "!pip install xgboost\n",
    "!pip install pandas\n",
    "!pip install joblib\n",
    "!pip install sklearn\n",
    "import xgboost\n",
    "import pandas as pd\n",
    "from joblib import dump, load\n",
    "\n",
    "\n",
    "data=pd.read_csv('ressources/diabetes_data.csv')\n",
    "\n",
    "X=data[['BMI','Smoker','GenHlth']]\n",
    "y = (data['Diabetes']).astype(int)\n",
    "xgb=xgboost.XGBClassifier()\n",
    "xgb.fit(X,y)\n",
    "\n",
    "with open('xgb_model.joblib', 'wb') as file:\n",
    "    dump(xgb, file)\n",
    "\n"
   ]
  },
  {
   "cell_type": "code",
   "execution_count": 4,
   "metadata": {},
   "outputs": [
    {
     "data": {
      "text/plain": [
       "Index(['Age', 'Sex', 'HighChol', 'CholCheck', 'BMI', 'Smoker',\n",
       "       'HeartDiseaseorAttack', 'PhysActivity', 'Fruits', 'Veggies',\n",
       "       'HvyAlcoholConsump', 'GenHlth', 'MentHlth', 'PhysHlth', 'DiffWalk',\n",
       "       'Stroke', 'HighBP', 'Diabetes'],\n",
       "      dtype='object')"
      ]
     },
     "execution_count": 4,
     "metadata": {},
     "output_type": "execute_result"
    }
   ],
   "source": [
    "data.columns"
   ]
  }
 ],
 "metadata": {
  "kernelspec": {
   "display_name": "venv",
   "language": "python",
   "name": "python3"
  },
  "language_info": {
   "codemirror_mode": {
    "name": "ipython",
    "version": 3
   },
   "file_extension": ".py",
   "mimetype": "text/x-python",
   "name": "python",
   "nbconvert_exporter": "python",
   "pygments_lexer": "ipython3",
   "version": "3.10.2"
  },
  "orig_nbformat": 4
 },
 "nbformat": 4,
 "nbformat_minor": 2
}
