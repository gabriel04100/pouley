{
 "cells": [
  {
   "cell_type": "code",
   "execution_count": 1,
   "metadata": {},
   "outputs": [],
   "source": [
    "import numpy as np \n",
    "import pandas as pd\n",
    "from functools import reduce\n",
    "import operator"
   ]
  },
  {
   "cell_type": "code",
   "execution_count": 2,
   "metadata": {},
   "outputs": [],
   "source": [
    "dataframe = pd.DataFrame([[140000, 50, 1, 2],\n",
    "                         [150000, 55, 0, 3],\n",
    "                         [100000, 38, 1, 2],\n",
    "                         [200000, 72, 0, 3],\n",
    "                         [220000, 70, 1, 4],\n",
    "                         [120000, 40, 0, 2],\n",
    "                         [198000, 68, 0, 3],\n",
    "                         [130000, 54, 0, 2],\n",
    "                         [140000, 62, 0, 3],\n",
    "                         [190000, 79, 1, 2],\n",
    "                         [170000, 67, 1, 4],\n",
    "                         [90000, 40, 0, 2]],\n",
    "                         columns=['prix', 'surface', 'garage', 'nb_piece'])"
   ]
  },
  {
   "cell_type": "code",
   "execution_count": 3,
   "metadata": {},
   "outputs": [
    {
     "data": {
      "text/html": [
       "<div>\n",
       "<style scoped>\n",
       "    .dataframe tbody tr th:only-of-type {\n",
       "        vertical-align: middle;\n",
       "    }\n",
       "\n",
       "    .dataframe tbody tr th {\n",
       "        vertical-align: top;\n",
       "    }\n",
       "\n",
       "    .dataframe thead th {\n",
       "        text-align: right;\n",
       "    }\n",
       "</style>\n",
       "<table border=\"1\" class=\"dataframe\">\n",
       "  <thead>\n",
       "    <tr style=\"text-align: right;\">\n",
       "      <th></th>\n",
       "      <th>prix</th>\n",
       "      <th>surface</th>\n",
       "      <th>garage</th>\n",
       "      <th>nb_piece</th>\n",
       "    </tr>\n",
       "  </thead>\n",
       "  <tbody>\n",
       "    <tr>\n",
       "      <th>0</th>\n",
       "      <td>140000</td>\n",
       "      <td>50</td>\n",
       "      <td>1</td>\n",
       "      <td>2</td>\n",
       "    </tr>\n",
       "    <tr>\n",
       "      <th>1</th>\n",
       "      <td>150000</td>\n",
       "      <td>55</td>\n",
       "      <td>0</td>\n",
       "      <td>3</td>\n",
       "    </tr>\n",
       "    <tr>\n",
       "      <th>2</th>\n",
       "      <td>100000</td>\n",
       "      <td>38</td>\n",
       "      <td>1</td>\n",
       "      <td>2</td>\n",
       "    </tr>\n",
       "    <tr>\n",
       "      <th>3</th>\n",
       "      <td>200000</td>\n",
       "      <td>72</td>\n",
       "      <td>0</td>\n",
       "      <td>3</td>\n",
       "    </tr>\n",
       "    <tr>\n",
       "      <th>4</th>\n",
       "      <td>220000</td>\n",
       "      <td>70</td>\n",
       "      <td>1</td>\n",
       "      <td>4</td>\n",
       "    </tr>\n",
       "    <tr>\n",
       "      <th>5</th>\n",
       "      <td>120000</td>\n",
       "      <td>40</td>\n",
       "      <td>0</td>\n",
       "      <td>2</td>\n",
       "    </tr>\n",
       "    <tr>\n",
       "      <th>6</th>\n",
       "      <td>198000</td>\n",
       "      <td>68</td>\n",
       "      <td>0</td>\n",
       "      <td>3</td>\n",
       "    </tr>\n",
       "    <tr>\n",
       "      <th>7</th>\n",
       "      <td>130000</td>\n",
       "      <td>54</td>\n",
       "      <td>0</td>\n",
       "      <td>2</td>\n",
       "    </tr>\n",
       "    <tr>\n",
       "      <th>8</th>\n",
       "      <td>140000</td>\n",
       "      <td>62</td>\n",
       "      <td>0</td>\n",
       "      <td>3</td>\n",
       "    </tr>\n",
       "    <tr>\n",
       "      <th>9</th>\n",
       "      <td>190000</td>\n",
       "      <td>79</td>\n",
       "      <td>1</td>\n",
       "      <td>2</td>\n",
       "    </tr>\n",
       "    <tr>\n",
       "      <th>10</th>\n",
       "      <td>170000</td>\n",
       "      <td>67</td>\n",
       "      <td>1</td>\n",
       "      <td>4</td>\n",
       "    </tr>\n",
       "    <tr>\n",
       "      <th>11</th>\n",
       "      <td>90000</td>\n",
       "      <td>40</td>\n",
       "      <td>0</td>\n",
       "      <td>2</td>\n",
       "    </tr>\n",
       "  </tbody>\n",
       "</table>\n",
       "</div>"
      ],
      "text/plain": [
       "      prix  surface  garage  nb_piece\n",
       "0   140000       50       1         2\n",
       "1   150000       55       0         3\n",
       "2   100000       38       1         2\n",
       "3   200000       72       0         3\n",
       "4   220000       70       1         4\n",
       "5   120000       40       0         2\n",
       "6   198000       68       0         3\n",
       "7   130000       54       0         2\n",
       "8   140000       62       0         3\n",
       "9   190000       79       1         2\n",
       "10  170000       67       1         4\n",
       "11   90000       40       0         2"
      ]
     },
     "execution_count": 3,
     "metadata": {},
     "output_type": "execute_result"
    }
   ],
   "source": [
    "dataframe"
   ]
  },
  {
   "cell_type": "code",
   "execution_count": 17,
   "metadata": {},
   "outputs": [
    {
     "data": {
      "text/plain": [
       "(12,)"
      ]
     },
     "execution_count": 17,
     "metadata": {},
     "output_type": "execute_result"
    }
   ],
   "source": [
    "# Nos targets values de départ\n",
    "row = dataframe['prix']\n"
   ]
  },
  {
   "cell_type": "code",
   "execution_count": 19,
   "metadata": {},
   "outputs": [],
   "source": [
    "def mse(dataset, target):\n",
    "\n",
    "    rows = dataset[target]\n",
    "    #colonne avec la moy\n",
    "    pred = np.ones(rows.shape[0]) * np.mean(rows)\n",
    "    mse = (1/len(rows)) *np.sum((rows - pred)**2)\n",
    "\n",
    "    return mse "
   ]
  },
  {
   "cell_type": "code",
   "execution_count": 20,
   "metadata": {},
   "outputs": [],
   "source": [
    "class decision_tree_regressor :\n",
    "\n",
    "  \n",
    "  def __init__(self, target, dataframe, max_depth):\n",
    "\n",
    "    self.max_depth = max_depth\n",
    "    self.target = target\n",
    "    self.dataframe = dataframe\n",
    "\n",
    "  def __quanti_split__(self, feature, value, dataset):\n",
    "\n",
    "   \n",
    "   left = dataset[dataset.loc[:,feature]<= value]\n",
    "   right = dataset[dataset.loc[:,feature]> value]\n",
    "\n",
    "   return left, right\n",
    "\n",
    "  def __quali_split__(self, feature, value, dataset):\n",
    "   \n",
    "   left = dataset[dataset.loc[:,feature]== value]\n",
    "   right = dataset[dataset.loc[:,feature]!= value]\n",
    "\n",
    "   return left, right\n",
    "\n",
    "  def __mse__(self, dataset):\n",
    "\n",
    "      rows = dataset[self.target]\n",
    "      pred = np.ones(rows.shape[0]) * np.mean(rows)\n",
    "      mse = (1/len(rows)) *np.sum((rows - pred)**2)\n",
    "\n",
    "      return mse \n",
    "\n",
    "  def __split_evaluator__(self, left_dataset, right_dataset):\n",
    "    \"\"\"Calculer le coût d'une séparation d'un noeud en deux branches\n",
    "    INPUT \n",
    "       - left_dataset : dataset de la branche de gauche\n",
    "       - right_dataset : dataset de la branche de droite\n",
    "    OUTPUT \n",
    "       - cost : coût de la séparation\"\"\"\n",
    "    left_eval = self.__mse__(left_dataset)\n",
    "    nb_left = left_dataset.shape[0]\n",
    "    right_eval = self.__mse__(right_dataset)\n",
    "    nb_right = right_dataset.shape[0]\n",
    "    nb_tot = nb_left + nb_right\n",
    "    cost = nb_left/nb_tot * left_eval + nb_right/nb_tot * right_eval\n",
    "    return cost "
   ]
  },
  {
   "cell_type": "code",
   "execution_count": null,
   "metadata": {},
   "outputs": [],
   "source": []
  }
 ],
 "metadata": {
  "kernelspec": {
   "display_name": "venv",
   "language": "python",
   "name": "python3"
  },
  "language_info": {
   "codemirror_mode": {
    "name": "ipython",
    "version": 3
   },
   "file_extension": ".py",
   "mimetype": "text/x-python",
   "name": "python",
   "nbconvert_exporter": "python",
   "pygments_lexer": "ipython3",
   "version": "3.10.2 (tags/v3.10.2:a58ebcc, Jan 17 2022, 14:12:15) [MSC v.1929 64 bit (AMD64)]"
  },
  "orig_nbformat": 4,
  "vscode": {
   "interpreter": {
    "hash": "3eb94d41bac326640c1d94cf58d4aca6c9a6f3a42bcccc1f96c5fb2b14d317fe"
   }
  }
 },
 "nbformat": 4,
 "nbformat_minor": 2
}
